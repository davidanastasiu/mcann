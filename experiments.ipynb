{
 "cells": [
  {
   "cell_type": "code",
   "execution_count": null,
   "metadata": {},
   "outputs": [],
   "source": [
    "! python run.py --arg_file './models/Almaden.txt' "
   ]
  },
  {
   "cell_type": "code",
   "execution_count": null,
   "metadata": {},
   "outputs": [],
   "source": [
    "! python run.py --arg_file './models/Coyote.txt' "
   ]
  },
  {
   "cell_type": "code",
   "execution_count": null,
   "metadata": {},
   "outputs": [],
   "source": [
    "! python run.py --arg_file './models/Lexington.txt' "
   ]
  },
  {
   "cell_type": "code",
   "execution_count": null,
   "metadata": {},
   "outputs": [],
   "source": [
    "! python run.py --arg_file './models/Stevens_Creek.txt' "
   ]
  },
  {
   "cell_type": "code",
   "execution_count": null,
   "metadata": {},
   "outputs": [],
   "source": [
    "! python run.py --arg_file './models/Vasona.txt' "
   ]
  },
  {
   "cell_type": "code",
   "execution_count": null,
   "metadata": {},
   "outputs": [],
   "source": [
    "import numpy as np\n",
    "import random\n",
    "from utils.utils2 import *\n",
    "from run import Options\n",
    "from models.Group_GMM5 import *\n",
    "pt = './output/Almaden/train/Almaden.zip'\n",
    "# get model\n",
    "print(\"For model: \", pt)\n",
    "model = Options().get_model(pt)\n",
    "model.Inference()"
   ]
  },
  {
   "cell_type": "code",
   "execution_count": null,
   "metadata": {},
   "outputs": [],
   "source": [
    "pt = './output/Coyote/train/Coyote.zip'\n",
    "# get model\n",
    "print(\"For model: \", pt)\n",
    "model = Options().get_model(pt)\n",
    "model.Inference()"
   ]
  },
  {
   "cell_type": "code",
   "execution_count": null,
   "metadata": {},
   "outputs": [],
   "source": [
    "pt = './output/Lexington/train/Lexington.zip'\n",
    "# get model\n",
    "print(\"For model: \", pt)\n",
    "model = Options().get_model(pt)\n",
    "model.Inference()"
   ]
  },
  {
   "cell_type": "code",
   "execution_count": null,
   "metadata": {},
   "outputs": [],
   "source": [
    "pt = './output/Stevens_Creek/train/Stevens_Creek.zip'\n",
    "# get model\n",
    "print(\"For model: \", pt)\n",
    "model = Options().get_model(pt)\n",
    "model.Inference()"
   ]
  },
  {
   "cell_type": "code",
   "execution_count": null,
   "metadata": {},
   "outputs": [],
   "source": [
    "pt = './output/Vasona/train/Vasona.zip'\n",
    "# get model\n",
    "print(\"For model: \", pt)\n",
    "model = Options().get_model(pt)\n",
    "model.Inference()"
   ]
  }
 ],
 "metadata": {
  "kernelspec": {
   "display_name": "Python 3",
   "language": "python",
   "name": "python3"
  },
  "language_info": {
   "codemirror_mode": {
    "name": "ipython",
    "version": 3
   },
   "file_extension": ".py",
   "mimetype": "text/x-python",
   "name": "python",
   "nbconvert_exporter": "python",
   "pygments_lexer": "ipython3",
   "version": "3.8.3"
  }
 },
 "nbformat": 4,
 "nbformat_minor": 4
}
