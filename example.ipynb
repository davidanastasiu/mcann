{
 "cells": [
  {
   "cell_type": "markdown",
   "metadata": {},
   "source": [
    "## <font color=blue >MC-ANN demo.\n",
    "This notebook demos how to train the MC-ANN model on the tsv dataset files of ***Stevens Creek*** and ***Coyote*** reservoir sensors. If you want to run it on other sensors, just change the parameter of ***--stream_sensor*** and ***--rain_sensor***.\n",
    "\n",
    "In our dataset, the parameters should be set to:\n",
    "\n",
    "reservoir Almaden:\n",
    "--stream_sensor **reservoir_stor_4001_sof24** \n",
    "\n",
    "reservoir Coyote:\n",
    "--stream_sensor **reservoir_stor_4005_sof24** \n",
    "\n",
    "reservoir Lexington:\n",
    "--stream_sensor **reservoir_stor_4007_sof24** \n",
    "\n",
    "reservoir Stevens Creek:\n",
    "--stream_sensor **reservoir_stor_4009_sof24** \n",
    "    \n",
    "reservoir Vasona:\n",
    "--stream_sensor **reservoir_stor_4011_sof24** \n",
    "  \n",
    "If you want to train a multivariate model, you should also set the parameter --watershed to 1, and set --rain_sensor to the file name of the rain/stream sensor without \".tsv\""
   ]
  },
  {
   "cell_type": "markdown",
   "metadata": {},
   "source": [
    "## <font color=blue >Parameter setting. \n",
    "\n",
    "--**stream_sensor**: stream dataset file name. The file should be csv file.\n",
    "\n",
    "--**rain_sensor**: rain dataset file name. The file should be csv file.\n",
    "\n",
    "--**train_volume**: train set size.\n",
    "\n",
    "--**hidden_dim**: hidden dim of lstm layers.\n",
    "\n",
    "--**atten_dim**: hidden dim of attention layers.\n",
    "\n",
    "--**layer**: number of layers.\n",
    "    \n",
    "--**os_s**: oversampling steps.\n",
    "\n",
    "--**os_v**: oversampling frequency.\n",
    "\n",
    "--**oversampling**: ratio of training data with extreme points.\n",
    "    \n",
    "--**watershed**: 1 if trained with rain info, else 0.\n",
    "\n",
    "--**model**: model name, used to generate the pt file and predicted file names.\n",
    "\n",
    "--**mode**: set it to 'train' or 'inference' with an existing pt_file.\n",
    "\n",
    "--**pt_file**: if set, the model will be loaded from this pt file, otherwise check the file according to the assigned parameters.\n",
    "\n",
    "--**save**: if save the predicted file of testset, set to 1, else 0.\n",
    "\n",
    "--**outf**: default value is './output', the model will be saved in the train folder in this directory."
   ]
  },
  {
   "cell_type": "markdown",
   "metadata": {},
   "source": [
    "## <font color=blue >Train a *uni-variate* model without rain data."
   ]
  },
  {
   "cell_type": "code",
   "execution_count": null,
   "metadata": {},
   "outputs": [],
   "source": [
    "!python run.py \\\n",
    "  --train_volume 30000 \\\n",
    "  --hidden_dim 512 \\\n",
    "  --atten_dim 600 \\\n",
    "  --layer 1 \\\n",
    "  --stream_sensor reservoir_stor_4009_sof24 \\\n",
    "  --rain_sensor reservoir_stor_4009_sof24 \\\n",
    "  --watershed 0 \\\n",
    "  --os_s 18 \\\n",
    "  --os_v 4 \\\n",
    "  --seq_weight 0.4 \\\n",
    "  --oversampling 40 \\\n",
    "  --input_len 360 \\\n",
    "  --output_len 72 \\\n",
    "  --model  Stevens_Creek"
   ]
  },
  {
   "cell_type": "markdown",
   "metadata": {},
   "source": [
    "## <font color=blue >Load a trained single-variate model."
   ]
  },
  {
   "cell_type": "code",
   "execution_count": null,
   "metadata": {},
   "outputs": [],
   "source": [
    "import numpy as np\n",
    "import random\n",
    "import imp\n",
    "from utils.utils2 import *\n",
    "from run import Options\n",
    "from models.Group_GMM5 import *\n",
    "pt = './output/Stevens_Creek/train/Stevens_Creek.zip'\n",
    "# get model\n",
    "model = Options().get_model(pt)"
   ]
  },
  {
   "cell_type": "markdown",
   "metadata": {},
   "source": [
    "## <font color=blue >Use test_single to do inferencing on one time-point."
   ]
  },
  {
   "cell_type": "code",
   "execution_count": 3,
   "metadata": {},
   "outputs": [
    {
     "name": "stdout",
     "output_type": "stream",
     "text": [
      "test_point is:  2018-12-16 13:30:00\n",
      "RMSE:  2.1783353980387554\n",
      "MAPE:  0.002556754398399504\n"
     ]
    },
    {
     "data": {
      "image/png": "[encoded data removed]",
      "text/plain": [
       "<Figure size 1080x216 with 1 Axes>"
      ]
     },
     "metadata": {
      "needs_background": "light"
     },
     "output_type": "display_data"
    }
   ],
   "source": [
    "import numpy as np\n",
    "from utils.utils2 import *\n",
    "testP=[\"2018-12-16 13:30:00\"] \n",
    "predicted, ground_truth = model.test_single(testP[0])\n",
    "print(\"RMSE: \", RMSE(predicted, ground_truth))\n",
    "print(\"MAPE: \", MAPE(predicted, ground_truth))\n",
    "plot(ground_truth, predicted)"
   ]
  },
  {
   "cell_type": "markdown",
   "metadata": {},
   "source": [
    "## <font color=blue >Inferencing for real-world application.\n",
    "If you already have test time point, history stream input and rain data input prepared, use ***predict*** function to do it."
   ]
  },
  {
   "cell_type": "code",
   "execution_count": null,
   "metadata": {},
   "outputs": [],
   "source": [
    "import numpy as np\n",
    "import random\n",
    "from utils.utils2 import *\n",
    "from run import Options\n",
    "from models.Group_GMM5 import *\n",
    "from models.Inference import *\n",
    "opt = Options().parse()\n",
    "# model name\n",
    "pt = './output/Stevens_Creek/train/Stevens_Creek.zip'\n",
    "# get model\n",
    "model = Options().get_model(pt)\n",
    "# get data\n",
    "testP=[\"2020-02-16 00:30:00\"]   \n",
    "for i in range(len(testP)):\n",
    "    stream_data, indicator_data, pre_gt = model.get_data(testP[i])  \n",
    "    p = model.predict(testP[i], stream_data, indicator_data, pre_gt)\n",
    "    print(\"Predicted data: \")\n",
    "    print(p)"
   ]
  },
  {
   "cell_type": "markdown",
   "metadata": {},
   "source": [
    "## <font color=blue >Train a *multi-variate* model with rain data."
   ]
  },
  {
   "cell_type": "code",
   "execution_count": null,
   "metadata": {},
   "outputs": [],
   "source": [
    "!python run.py \\\n",
    "  --train_volume 30000 \\\n",
    "  --hidden_dim 512 \\\n",
    "  --atten_dim 600 \\\n",
    "  --layer 1 \\\n",
    "  --epochs 40 \\\n",
    "  --stream_sensor reservoir_stor_4005_sof24 \\\n",
    "  --rain_sensor raingauge_byhour_6017_sof \\\n",
    "  --watershed 1 \\\n",
    "  --os_s 18 \\\n",
    "  --os_v 4 \\\n",
    "  --seq_weight 0.4 \\\n",
    "  --oversampling 40 \\\n",
    "  --input_len 360 \\\n",
    "  --output_len 72 \\\n",
    "  --model  Coyote_with_Rain"
   ]
  },
  {
   "cell_type": "markdown",
   "metadata": {},
   "source": [
    "## <font color=blue >Load a trained multi-variate model."
   ]
  },
  {
   "cell_type": "code",
   "execution_count": null,
   "metadata": {},
   "outputs": [],
   "source": [
    "import numpy as np\n",
    "import random\n",
    "import imp\n",
    "from utils.utils2 import *\n",
    "from run import Options\n",
    "from models.Group_GMM5 import *\n",
    "pt = './output/Coyote_with_Rain/train/Coyote_with_Rain.zip'\n",
    "# get model\n",
    "model = Options().get_model(pt)"
   ]
  },
  {
   "cell_type": "markdown",
   "metadata": {},
   "source": [
    "## <font color=blue >Use test_single to do inferencing on one time-point."
   ]
  },
  {
   "cell_type": "code",
   "execution_count": 54,
   "metadata": {},
   "outputs": [
    {
     "name": "stdout",
     "output_type": "stream",
     "text": [
      "RMSE:  29.030456707549465\n",
      "MAPE:  0.0033207333989823226\n"
     ]
    },
    {
     "data": {
      "image/png": "[encoded data removed]",
      "text/plain": [
       "<Figure size 1080x216 with 1 Axes>"
      ]
     },
     "metadata": {
      "needs_background": "light"
     },
     "output_type": "display_data"
    }
   ],
   "source": [
    "import numpy as np\n",
    "from utils.utils2 import *\n",
    "testP=[\"2018-12-19 10:30:00\"] \n",
    "predicted, ground_truth = model.test_single(testP[0])\n",
    "print(\"RMSE: \", RMSE(predicted, ground_truth))\n",
    "print(\"MAPE: \", MAPE(predicted, ground_truth))\n",
    "plot(ground_truth, predicted)"
   ]
  },
  {
   "cell_type": "code",
   "execution_count": null,
   "metadata": {},
   "outputs": [],
   "source": []
  }
 ],
 "metadata": {
  "kernelspec": {
   "display_name": "Python 3",
   "language": "python",
   "name": "python3"
  },
  "language_info": {
   "codemirror_mode": {
    "name": "ipython",
    "version": 3
   },
   "file_extension": ".py",
   "mimetype": "text/x-python",
   "name": "python",
   "nbconvert_exporter": "python",
   "pygments_lexer": "ipython3",
   "version": "3.8.3"
  }
 },
 "nbformat": 4,
 "nbformat_minor": 4
}
