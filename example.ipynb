{
 "cells": [
  {
   "cell_type": "markdown",
   "metadata": {},
   "source": [
    "## <font color=blue >MC-ANN demo.\n",
    "This notebook demos how to train the MC-ANN model on the tsv dataset files of ***Stevens Creek*** and ***Coyote*** reservoir sensors. If you want to run it on other sensors, just change the parameter of ***--reservoir_sensor*** and ***--rain_sensor***.\n",
    "\n",
    "In our dataset, the parameters should be set to:\n",
    "\n",
    "reservoir Almaden:\n",
    "--reservoir_sensor **reservoir_stor_4001_sof24** \n",
    "\n",
    "reservoir Coyote:\n",
    "--reservoir_sensor **reservoir_stor_4005_sof24** \n",
    "\n",
    "reservoir Lexington:\n",
    "--reservoir_sensor **reservoir_stor_4007_sof24** \n",
    "\n",
    "reservoir Stevens Creek:\n",
    "--reservoir_sensor **reservoir_stor_4009_sof24** \n",
    "    \n",
    "reservoir Vasona:\n",
    "--reservoir_sensor **reservoir_stor_4011_sof24** \n"
   ]
  },
  {
   "cell_type": "markdown",
   "metadata": {},
   "source": [
    "## <font color=blue >Parameter setting. \n",
    "\n",
    "--**reservoir_sensor**: reservoir dataset file name. The file should be csv file.\n",
    "\n",
    "--**train_volume**: train set size.\n",
    "\n",
    "--**hidden_dim**: hidden dim of lstm layers.\n",
    "\n",
    "--**atten_dim**: hidden dim of attention layers.\n",
    "\n",
    "--**layer**: number of layers.\n",
    "    \n",
    "--**os_s**: oversampling steps.\n",
    "\n",
    "--**os_v**: oversampling frequency.\n",
    "\n",
    "--**oversampling**: ratio of training data with extreme points.\n",
    "    \n",
    "--**model**: model name, used to generate the pt file and predicted file names.\n",
    "\n",
    "--**mode**: set it to 'train' or 'inference' with an existing pt_file.\n",
    "\n",
    "--**pt_file**: if set, the model will be loaded from this pt file, otherwise check the file according to the assigned parameters.\n",
    "\n",
    "--**save**: if save the predicted file of testset, set to 1, else 0.\n",
    "\n",
    "--**outf**: default value is './output', the model will be saved in the train folder in this directory."
   ]
  },
  {
   "cell_type": "markdown",
   "metadata": {},
   "source": [
    "## <font color=blue >Train a *uni-variate* model."
   ]
  },
  {
   "cell_type": "code",
   "execution_count": null,
   "metadata": {},
   "outputs": [],
   "source": [
    "!python run.py \\\n",
    "  --train_volume 30000 \\\n",
    "  --hidden_dim 512 \\\n",
    "  --atten_dim 600 \\\n",
    "  --layer 1 \\\n",
    "  --reservoir_sensor reservoir_stor_4009_sof24 \\\n",
    "  --os_s 18 \\\n",
    "  --os_v 4 \\\n",
    "  --seq_weight 0.4 \\\n",
    "  --oversampling 40 \\\n",
    "  --input_len 360 \\\n",
    "  --output_len 72 \\\n",
    "  --model  Stevens_Creek"
   ]
  },
  {
   "cell_type": "markdown",
   "metadata": {},
   "source": [
    "## <font color=blue > How to Test\n",
    "\n",
    "To test, we provide the test.py to produce a prediction and compare with the ground truth values. The fig is saved in output.png.\n",
    "\n",
    "--**model_path**: The model zip file path.\n",
    "\n",
    "--**test_time**: The start time point being predicted."
   ]
  },
  {
   "cell_type": "code",
   "execution_count": 1,
   "metadata": {},
   "outputs": [
    {
     "name": "stdout",
     "output_type": "stream",
     "text": [
      "current dir:  /data/hydro/hydro-2/code/mcann-main\n",
      "Importing parameters from:  opt.txt ............\n",
      "norm is:  [-5.04910563e-03  7.00848242e+01]\n",
      "RMSE:  108.90099370113944\n",
      "MAPE:  0.015892237531579343\n",
      "Figure(1000x600)\n",
      "Figure saved in output.png!\n"
     ]
    }
   ],
   "source": [
    "!export PYTHONPATH=$(dirname $(pwd)) && \\\n",
    "python -m mcann-main.test --model_path \"output/Coyote/train/Coyote.zip\" --test_time \"2020-01-04 08:30:00\""
   ]
  },
  {
   "cell_type": "markdown",
   "metadata": {},
   "source": [
    "## <font color=blue > How to Predict\n",
    "\n",
    "To predict on one timepoint, we provide the predict.py to produce a prediction and save the value into predict.txt.\n",
    "\n",
    "--**model_path**: The model zip file path.\n",
    "\n",
    "--**test_time**: The start time point being predicted."
   ]
  },
  {
   "cell_type": "code",
   "execution_count": 4,
   "metadata": {},
   "outputs": [
    {
     "name": "stdout",
     "output_type": "stream",
     "text": [
      "current dir:  /data/hydro/hydro-2/code/mcann-main\n",
      "Importing parameters from:  opt.txt ............\n",
      "norm is:  [-5.04910563e-03  7.00848242e+01]\n",
      "Results saved to predict.txt!\n"
     ]
    }
   ],
   "source": [
    "!export PYTHONPATH=$(dirname $(pwd)) && \\\n",
    "python -m mcann-main.predict --model_path \"output/Coyote/train/Coyote.zip\" --test_time \"2019-01-07 03:30:00\""
   ]
  },
  {
   "cell_type": "code",
   "execution_count": null,
   "metadata": {},
   "outputs": [],
   "source": []
  }
 ],
 "metadata": {
  "kernelspec": {
   "display_name": "Python 3",
   "language": "python",
   "name": "python3"
  },
  "language_info": {
   "codemirror_mode": {
    "name": "ipython",
    "version": 3
   },
   "file_extension": ".py",
   "mimetype": "text/x-python",
   "name": "python",
   "nbconvert_exporter": "python",
   "pygments_lexer": "ipython3",
   "version": "3.8.3"
  }
 },
 "nbformat": 4,
 "nbformat_minor": 4
}
