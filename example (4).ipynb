{
 "cells": [
  {
   "cell_type": "markdown",
   "metadata": {},
   "source": [
    "## <font color=blue >MC-ANN demo.\n",
    "This notebook demos how to train the MC-ANN model on the CSV dataset files of ***Stevens Creek*** reservoir sensor. If you want to run it on other sensors, just change the parameter of ***--stream_sensor*** and ***--rain_sensor***.\n",
    "\n",
    "In our dataset, the parameters should be set to:\n",
    "\n",
    "reservoir Almaden:\n",
    "--stream_sensor **reservoir_stor_4001_sof24** \n",
    "--rain_sensor **reservoir_stor_4001_sof24** \n",
    "\n",
    "reservoir Coyote:\n",
    "--stream_sensor **reservoir_stor_4005_sof24** \n",
    "--rain_sensor **reservoir_stor_4005_sof24** \n",
    "\n",
    "reservoir Lexington:\n",
    "--stream_sensor **reservoir_stor_4007_sof24** \n",
    "--rain_sensor **reservoir_stor_4007_sof24** \n",
    "\n",
    "reservoir Stevens Creek:\n",
    "--stream_sensor **reservoir_stor_4009_sof24** \n",
    "--rain_sensor **reservoir_stor_4009_sof24**\n",
    "    \n",
    "reservoir Vasona:\n",
    "--stream_sensor **reservoir_stor_4011_sof24** \n",
    "--rain_sensor **reservoir_stor_4011_sof24**    \n"
   ]
  },
  {
   "cell_type": "markdown",
   "metadata": {},
   "source": [
    "## <font color=blue >Parameter setting. \n",
    "\n",
    "--**stream_sensor**: stream dataset file name. The file should be csv file.\n",
    "\n",
    "--**rain_sensor**: rain dataset file name. The file should be csv file.\n",
    "\n",
    "--**train_volume**: train set size.\n",
    "\n",
    "--**hidden_dim**: hidden dim of lstm layers.\n",
    "\n",
    "--**atten_dim**: hidden dim of attention layers.\n",
    "\n",
    "--**layer**: number of layers.\n",
    "    \n",
    "--**os_s**: oversampling steps.\n",
    "\n",
    "--**os_v**: oversampling frequency.\n",
    "\n",
    "--**oversampling**: ratio of training data with extreme points.\n",
    "    \n",
    "--**watershed**: 1 if trained with rain info, else 0.\n",
    "\n",
    "--**model**: model name, used to generate the pt file and predicted file names.\n",
    "\n",
    "--**mode**: set it to 'train' or 'inference' with an existing pt_file.\n",
    "\n",
    "--**pt_file**: if set, the model will be loaded from this pt file, otherwise check the file according to the assigned parameters.\n",
    "\n",
    "--**save**: if save the predicted file of testset, set to 1, else 0.\n",
    "\n",
    "--**outf**: default value is './output', the model will be saved in the train folder in this directory."
   ]
  },
  {
   "cell_type": "markdown",
   "metadata": {},
   "source": [
    "## <font color=blue >Train a *uni-variate* model without rain data."
   ]
  },
  {
   "cell_type": "code",
   "execution_count": 1,
   "metadata": {},
   "outputs": [
    {
     "name": "stdout",
     "output_type": "stream",
     "text": [
      "for sensor  reservoir_stor_4009_sof24 start_num is:  155567\n",
      "train set length is :  236664\n",
      "mean is:  -0.0023255666261028274\n",
      "std is  3.2069081891016236\n",
      "gm3.means are:  [ 6.79314905e-04 -1.37106783e-01  2.15363686e+00]\n",
      "z :  -0.137106782510682 0.000679314904959321 2.153636859268983\n",
      "gm3.covariances are:  [[[1.27704092e-06]]\n",
      "\n",
      " [[6.41153819e-01]]\n",
      "\n",
      " [[4.42200547e+01]]]\n",
      "gm3.weights are:  [0.71500881 0.26814578 0.01684541]\n",
      "data_prob3 shape,  (236664, 3)\n",
      "gmm0.means are:  [ 6.81397744e-04  2.30456764e+00 -1.36654595e-01]\n",
      "gmm0.weights are:  [0.71437435 0.01653175 0.2690939 ]\n",
      "new order is,  0 1 2\n",
      "data_prob3 shape,  (236664, 3)\n",
      "sensor_data_norm1,  [[ 3.12551999e-01  7.33978093e-01  0.00000000e+00  8.25351011e-03\n",
      "   9.91746485e-01]\n",
      " [-6.16691940e-01  7.33922422e-01  0.00000000e+00  8.01089965e-03\n",
      "   9.91989076e-01]\n",
      " [-2.05080531e-01  7.33633041e-01  0.00000000e+00  6.88707270e-03\n",
      "   9.93112922e-01]\n",
      " ...\n",
      " [ 7.25174058e-04  2.85226941e-01  9.99471009e-01  3.72583145e-06\n",
      "   5.25244337e-04]\n",
      " [ 7.25174058e-04  2.85226941e-01  9.99471009e-01  3.72583145e-06\n",
      "   5.25244337e-04]\n",
      " [ 7.25174058e-04  2.85226941e-01  9.99471009e-01  3.72583145e-06\n",
      "   5.25244337e-04]]\n",
      "Finish prob indicator generating.\n",
      "R_data,  [0.7329906  0.73292935 0.7326455  ... 0.28586212 0.28586212 0.28586212]\n",
      "self.tag len,  236664\n",
      "norm is:  [-2.32556663e-03  3.20690819e+00  0.00000000e+00  1.00000000e+00]\n",
      "Begin to generate val_dataloader!\n",
      "val set saved to :  ./output/Stevens_Creek/val/validation_timestamps_24avg.tsv\n",
      "Begin to generate train_dataloader!\n",
      "time series gmm.weights are:  [0.55888998 0.19021232 0.2508977 ]\n",
      "gmm_prob30,  [[9.99999923e-01 1.21815910e-10 7.65478395e-08]\n",
      " [9.99999923e-01 1.21815910e-10 7.65478395e-08]\n",
      " [0.00000000e+00 1.32337292e-06 9.99998677e-01]\n",
      " ...\n",
      " [9.99999923e-01 1.21815910e-10 7.65478395e-08]\n",
      " [0.00000000e+00 1.45588761e-06 9.99998544e-01]\n",
      " [0.00000000e+00 1.41403536e-06 9.99998586e-01]]\n",
      "new order is,  1 0 2\n",
      "DATA shape,  (4214, 360, 5)\n",
      "Label,  (4214, 72, 5)\n",
      "/home/yanhong/anaconda3/lib/python3.8/site-packages/torch/nn/modules/rnn.py:62: UserWarning: dropout option adds dropout after all but last recurrent layer, so non-zero dropout expects num_layers greater than 1, but got dropout=0.1 and num_layers=1\n",
      "  warnings.warn(\"dropout option adds dropout after all but last \"\n",
      "val total RMSE:  1050.6498328146\n",
      "val min RMSE:  1050.6498328146\n",
      "-----------Epoch: 0. train_Loss>: 4800900.017090. --------------------\n",
      "-----------Epoch: 0. val_Loss_rmse>: 1050.649833. --------------------\n",
      "-----------Epoch: 0. val_Loss_mape>: 0.012395. --------------------\n",
      "-----------Epoch: 0. running time>: 14.369880. --------------------\n",
      "Updating learning rate to 0.001\n",
      "Updating learning rate to 0.001\n",
      "for sensor  reservoir_stor_4009_sof24 start_num is:  155567\n",
      "train set length is :  236664\n",
      "data_prob3 shape,  (245425, 3)\n",
      "gmm0.means are:  [ 6.81397744e-04  2.30456764e+00 -1.36654595e-01]\n",
      "gmm0.weights are:  [0.71437435 0.01653175 0.2690939 ]\n",
      "new order is,  0 1 2\n",
      "Finish prob indicator updating.\n",
      "mean is:  0.3395624\n",
      "std is  0.13880299\n",
      "/home/yanhong/anaconda3/lib/python3.8/site-packages/torch/nn/modules/rnn.py:62: UserWarning: dropout option adds dropout after all but last recurrent layer, so non-zero dropout expects num_layers greater than 1, but got dropout=0.1 and num_layers=1\n",
      "  warnings.warn(\"dropout option adds dropout after all but last \"\n",
      "Importing the best MCANN_encoder pt file: <zipfile.ZipExtFile name='MCANN_encoder.pt' mode='r'>\n",
      "Importing the best MCANN_decoder pt file: <zipfile.ZipExtFile name='MCANN_decoder.pt' mode='r'>\n",
      "for sensor  reservoir_stor_4009_sof24 start_num is:  155567\n",
      "train set length is :  236664\n",
      "data_prob3 shape,  (245425, 3)\n",
      "gmm0.means are:  [ 6.81397744e-04  2.30456764e+00 -1.36654595e-01]\n",
      "gmm0.weights are:  [0.71437435 0.01653175 0.2690939 ]\n",
      "new order is,  0 1 2\n",
      "Finish prob indicator updating.\n",
      "mean is:  0.3395624\n",
      "std is  0.13880299\n",
      "Begin to generate test_points!\n",
      "generate test points file and test_data:  5.180069923400879\n",
      "Inferencing test points  1086  use:  0.056372880935668945\n",
      "RMSE:  33.23\n",
      "MAPE:  0.017\n",
      "Model saved in:  ./output/Stevens_Creek/train/Stevens_Creek.zip\n"
     ]
    }
   ],
   "source": [
    "!python run.py \\\n",
    "  --train_volume 3000 \\\n",
    "  --hidden_dim 512 \\\n",
    "  --atten_dim 600 \\\n",
    "  --layer 1 \\\n",
    "  --stream_sensor reservoir_stor_4009_sof24 \\\n",
    "  --rain_sensor reservoir_stor_4009_sof24 \\\n",
    "  --os_s 18 \\\n",
    "  --os_v 4 \\\n",
    "  --seq_weight 0.4 \\\n",
    "  --oversampling 40 \\\n",
    "  --input_len 360 \\\n",
    "  --output_len 72 \\\n",
    "  --model  Stevens_Creek"
   ]
  },
  {
   "cell_type": "markdown",
   "metadata": {},
   "source": [
    "## <font color=blue >Load a trained multi-variate model."
   ]
  },
  {
   "cell_type": "code",
   "execution_count": 1,
   "metadata": {},
   "outputs": [
    {
     "name": "stdout",
     "output_type": "stream",
     "text": [
      "current dir:  /data/hydro/hydro-2/code/MCANN\n",
      "Importing parameters from:  opt.txt ............\n"
     ]
    },
    {
     "name": "stderr",
     "output_type": "stream",
     "text": [
      "/home/yanhong/anaconda3/lib/python3.8/site-packages/torch/nn/modules/rnn.py:62: UserWarning: dropout option adds dropout after all but last recurrent layer, so non-zero dropout expects num_layers greater than 1, but got dropout=0.1 and num_layers=1\n",
      "  warnings.warn(\"dropout option adds dropout after all but last \"\n"
     ]
    },
    {
     "name": "stdout",
     "output_type": "stream",
     "text": [
      "norm is:  [-2.32556663e-03  3.20690819e+00  0.00000000e+00  1.00000000e+00]\n"
     ]
    }
   ],
   "source": [
    "import numpy as np\n",
    "import random\n",
    "import imp\n",
    "from utils.utils2 import *\n",
    "from run import Options\n",
    "from models.Group_GMM5 import *\n",
    "pt = './output/Stevens_Creek/train/Stevens_Creek.zip'\n",
    "# get model\n",
    "model = Options().get_model(pt)"
   ]
  },
  {
   "cell_type": "markdown",
   "metadata": {},
   "source": [
    "## <font color=blue >Use test_single to do inferencing on one time-point."
   ]
  },
  {
   "cell_type": "code",
   "execution_count": 3,
   "metadata": {},
   "outputs": [
    {
     "name": "stdout",
     "output_type": "stream",
     "text": [
      "test_point is:  2018-12-16 13:30:00\n",
      "RMSE:  2.1783353980387554\n",
      "MAPE:  0.002556754398399504\n"
     ]
    },
    {
     "data": {
      "image/png": "[encoded data removed]",
      "text/plain": [
       "<Figure size 1080x216 with 1 Axes>"
      ]
     },
     "metadata": {
      "needs_background": "light"
     },
     "output_type": "display_data"
    }
   ],
   "source": [
    "import numpy as np\n",
    "from utils.utils2 import *\n",
    "testP=[\"2018-12-16 13:30:00\" ] \n",
    "predicted, ground_truth = model.test_single(testP[0])\n",
    "print(\"RMSE: \", RMSE(predicted, ground_truth))\n",
    "print(\"MAPE: \", MAPE(predicted, ground_truth))\n",
    "plot(ground_truth, predicted)"
   ]
  },
  {
   "cell_type": "markdown",
   "metadata": {},
   "source": [
    "## <font color=blue >Inferencing for real-world application.\n",
    "If you already have test time point, history stream input and rain data input prepared, use ***predict*** function to do it."
   ]
  },
  {
   "cell_type": "code",
   "execution_count": 5,
   "metadata": {},
   "outputs": [
    {
     "name": "stdout",
     "output_type": "stream",
     "text": [
      "current dir:  /data/hydro/hydro-2/code/MCANN\n",
      "Importing parameters from:  opt.txt ............\n",
      "norm is:  [-2.32556663e-03  3.20690819e+00  0.00000000e+00  1.00000000e+00]\n"
     ]
    },
    {
     "name": "stderr",
     "output_type": "stream",
     "text": [
      "/home/yanhong/anaconda3/lib/python3.8/site-packages/torch/nn/modules/rnn.py:62: UserWarning: dropout option adds dropout after all but last recurrent layer, so non-zero dropout expects num_layers greater than 1, but got dropout=0.1 and num_layers=1\n",
      "  warnings.warn(\"dropout option adds dropout after all but last \"\n"
     ]
    },
    {
     "name": "stdout",
     "output_type": "stream",
     "text": [
      "test_point is:  2020-02-16 00:30:00\n",
      "Predicted data: \n",
      "[1667.25004971 1667.53296587 1667.96689419 1668.49931822 1669.09967523\n",
      " 1669.75018296 1670.43867314 1671.15573324 1671.89397048 1672.64778053\n",
      " 1673.41301622 1674.18663728 1674.96644594 1675.75081188 1676.53854051\n",
      " 1677.32874698 1678.12077426 1678.91415424 1679.70851652 1680.50360841\n",
      " 1681.29924564 1682.09527864 1682.89160276 1683.68814473 1684.48484417\n",
      " 1685.28166593 1686.0785697  1686.87553616 1687.67254984 1688.4695995\n",
      " 1689.2666753  1690.06377366 1690.86087999 1691.65800267 1692.45512344\n",
      " 1693.2522496  1694.04938442 1694.84651847 1695.64365988 1696.44080354\n",
      " 1697.23794858 1698.03509405 1698.83223847 1699.62938227 1700.42652158\n",
      " 1701.22366696 1702.02080904 1702.81823999 1703.61569235 1704.41316463\n",
      " 1705.21071801 1706.00837882 1706.80613577 1707.60396435 1708.40184411\n",
      " 1709.19975613 1709.99769137 1710.79564578 1711.59361098 1712.3915868\n",
      " 1713.18956978 1713.98755835 1714.78554965 1715.58354142 1716.38153415\n",
      " 1717.17953094 1717.97752444 1718.77551956 1719.57351678 1720.37151577\n",
      " 1721.16951471 1721.96751475]\n"
     ]
    }
   ],
   "source": [
    "import numpy as np\n",
    "import random\n",
    "from utils.utils2 import *\n",
    "from run import Options\n",
    "from models.Group_GMM5 import *\n",
    "from models.Inference import *\n",
    "opt = Options().parse()\n",
    "# model name\n",
    "pt = './output/Stevens_Creek/train/Stevens_Creek.zip'\n",
    "# get model\n",
    "model = Options().get_model(pt)\n",
    "# get data\n",
    "testP=[\"2020-02-16 00:30:00\"]   \n",
    "for i in range(len(testP)):\n",
    "    stream_data, indicator_data, pre_gt = model.get_data(testP[i])  \n",
    "    p = model.predict(testP[i], stream_data, indicator_data, pre_gt)\n",
    "    print(\"Predicted data: \")\n",
    "    print(p)"
   ]
  },
  {
   "cell_type": "code",
   "execution_count": null,
   "metadata": {},
   "outputs": [],
   "source": []
  }
 ],
 "metadata": {
  "kernelspec": {
   "display_name": "Python 3",
   "language": "python",
   "name": "python3"
  },
  "language_info": {
   "codemirror_mode": {
    "name": "ipython",
    "version": 3
   },
   "file_extension": ".py",
   "mimetype": "text/x-python",
   "name": "python",
   "nbconvert_exporter": "python",
   "pygments_lexer": "ipython3",
   "version": "3.8.3"
  }
 },
 "nbformat": 4,
 "nbformat_minor": 4
}
